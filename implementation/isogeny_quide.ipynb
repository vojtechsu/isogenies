{
 "cells": [
  {
   "cell_type": "markdown",
   "metadata": {},
   "source": [
    "## Isogeny class"
   ]
  },
  {
   "cell_type": "markdown",
   "metadata": {},
   "source": [
    "This notebook has been implemented as a supplementary tool for the appendix of the thesis."
   ]
  },
  {
   "cell_type": "markdown",
   "metadata": {},
   "source": [
    "Class for isogenies over finite fields. We can construct Isogeny using:\n",
    "    - kernel_polynomial\n",
    "    - kernel (list of points)\n",
    "    - tuple of rational maps and codomain\n",
    "    - domain and codomain (only for cyclic,normalized isogenies)\n",
    "    - or an already constructed isogeny instance of Isogeny class in sage. \n",
    "In addition, the inseparable degree can be specified. Further info can be found in the appendix."
   ]
  },
  {
   "cell_type": "code",
   "execution_count": 1,
   "metadata": {},
   "outputs": [],
   "source": [
    "from libr.isogeny import Isogeny\n",
    "E = EllipticCurve(GF(59),[10,36])"
   ]
  },
  {
   "cell_type": "code",
   "execution_count": 2,
   "metadata": {},
   "outputs": [
    {
     "data": {
      "text/plain": [
       "Isogeny of degree 5 from Elliptic Curve defined by y^2 = x^3 + 10*x + 36 over Finite Field of size 59 to Elliptic Curve defined by y^2 = x^3 + 29*x + 27 over Finite Field of size 59"
      ]
     },
     "execution_count": 2,
     "metadata": {},
     "output_type": "execute_result"
    }
   ],
   "source": [
    "Q.<x> = PolynomialRing(E.base_field())\n",
    "polynomial = x^2+45*x+22\n",
    "isg = Isogeny(E,kernel_polynomial = polynomial)\n",
    "isg"
   ]
  },
  {
   "cell_type": "code",
   "execution_count": 3,
   "metadata": {},
   "outputs": [
    {
     "data": {
      "text/plain": [
       "Isogeny of degree 5 from Elliptic Curve defined by y^2 = x^3 + 10*x + 36 over Finite Field of size 59 to Elliptic Curve defined by y^2 = x^3 + 29*x + 27 over Finite Field of size 59"
      ]
     },
     "execution_count": 3,
     "metadata": {},
     "output_type": "execute_result"
    }
   ],
   "source": [
    "k2 = GF(59^2)\n",
    "z = k2.gen()\n",
    "E2 = E.change_ring(k2)\n",
    "kernel = [E2(40,20*z + 49),\n",
    "E2(40,39*z + 10), E2(33,29*z + 15),\n",
    "E2(33,30*z + 44),E2(0)]\n",
    "Isogeny(E, kernel = kernel)"
   ]
  },
  {
   "cell_type": "code",
   "execution_count": 4,
   "metadata": {},
   "outputs": [
    {
     "data": {
      "text/plain": [
       "Isogeny of degree 5 from Elliptic Curve defined by y^2 = x^3 + 10*x + 36 over Finite Field of size 59 to Elliptic Curve defined by y^2 = x^3 + 29*x + 27 over Finite Field of size 59"
      ]
     },
     "execution_count": 4,
     "metadata": {},
     "output_type": "execute_result"
    }
   ],
   "source": [
    "x,y = PolynomialRing(GF(59),['x','y']).gens()\n",
    "maps = ((x^5 - 28*x^4 + 12*x^3 + 21*x^2 - 17*x - 18)/(x^4 -\n",
    "28*x^3 + 4*x^2 - 26*x + 12), (x^6*y + 17*x^5*y -\n",
    "3*x^4*y - 19*x^3*y + 17*x^2*y - 9*x*y + 7*y)/(x^6\n",
    "+ 17*x^5 + 5*x^4 + 10*x^3 - 8*x^2 + 27*x + 28))\n",
    "E3 = EllipticCurve(GF(59),[29,27])\n",
    "Isogeny(E, rational_maps = maps, codomain = E3)"
   ]
  },
  {
   "cell_type": "code",
   "execution_count": 5,
   "metadata": {},
   "outputs": [
    {
     "data": {
      "text/plain": [
       "Isogeny of degree 5 from Elliptic Curve defined by y^2 = x^3 + 10*x + 36 over Finite Field of size 59 to Elliptic Curve defined by y^2 = x^3 + 36*x + 1 over Finite Field of size 59"
      ]
     },
     "execution_count": 5,
     "metadata": {},
     "output_type": "execute_result"
    }
   ],
   "source": [
    "x = PolynomialRing(GF(59),'x').gen()\n",
    "poly = x^2+45*x+22\n",
    "isg = EllipticCurveIsogeny(E,kernel = poly)\n",
    "E4 = EllipticCurve(GF(59),[36,1])\n",
    "isg2 = Isogeny(E,isogeny = isg, codomain = E4)\n",
    "isg2"
   ]
  },
  {
   "cell_type": "code",
   "execution_count": 6,
   "metadata": {},
   "outputs": [
    {
     "data": {
      "text/plain": [
       "Isogeny of degree 5 from Elliptic Curve defined by y^2 = x^3 + 10*x + 36 over Finite Field of size 59 to Elliptic Curve defined by y^2 = x^3 + 29*x + 27 over Finite Field of size 59"
      ]
     },
     "execution_count": 6,
     "metadata": {},
     "output_type": "execute_result"
    }
   ],
   "source": [
    "E5 = EllipticCurve(GF(59),[29,27])\n",
    "isg2.change_codomain(E5)\n",
    "isg2"
   ]
  },
  {
   "cell_type": "code",
   "execution_count": 7,
   "metadata": {},
   "outputs": [
    {
     "data": {
      "text/plain": [
       "(-13*x, -24*y)"
      ]
     },
     "execution_count": 7,
     "metadata": {},
     "output_type": "execute_result"
    }
   ],
   "source": [
    "isg2.isomorphism()"
   ]
  },
  {
   "cell_type": "code",
   "execution_count": 8,
   "metadata": {},
   "outputs": [
    {
     "name": "stdout",
     "output_type": "stream",
     "text": [
      "Elliptic Curve defined by y^2 = x^3 + 89*x + 68 over Finite Field of size 101\n",
      "Elliptic Curve defined by y^2 = x^3 + 50*x + 99 over Finite Field of size 101\n",
      "((x^3 - x^2 + 3*x - 18)/(x^2 - x - 25), (x^3*y + 49*x^2*y - 2*x*y - 16*y)/(x^3 + 49*x^2 + 26*x - 38))\n",
      "3\n",
      "True\n",
      "[(51 : 10 : 1), (51 : 91 : 1), (0 : 1 : 0)]\n",
      "(0 : 1 : 0)\n",
      "x + 50\n"
     ]
    }
   ],
   "source": [
    "E = EllipticCurve(GF(101),[89,68])\n",
    "isg = Isogeny(E,x+50)\n",
    "print(isg.domain())\n",
    "print(isg.codomain())\n",
    "print(isg.rational_maps())\n",
    "print(isg.degree())\n",
    "print(isg.separable())\n",
    "print(isg.kernel())\n",
    "print(isg(isg.kernel()[0]))\n",
    "print(isg.kernel_polynomial())"
   ]
  },
  {
   "cell_type": "code",
   "execution_count": 9,
   "metadata": {},
   "outputs": [
    {
     "data": {
      "text/plain": [
       "Isogeny of degree 3 from Elliptic Curve defined by y^2 = x^3 + 50*x + 99 over Finite Field of size 101 to Elliptic Curve defined by y^2 = x^3 + 89*x + 68 over Finite Field of size 101"
      ]
     },
     "execution_count": 9,
     "metadata": {},
     "output_type": "execute_result"
    }
   ],
   "source": [
    "isg.dual()"
   ]
  },
  {
   "cell_type": "code",
   "execution_count": 10,
   "metadata": {},
   "outputs": [
    {
     "data": {
      "text/plain": [
       "Isogeny of degree 12 from Elliptic Curve defined by y^2 = x^3 + 89*x + 68 over Finite Field of size 101 to Elliptic Curve defined by y^2 = x^3 + 50*x + 99 over Finite Field of size 101"
      ]
     },
     "execution_count": 10,
     "metadata": {},
     "output_type": "execute_result"
    }
   ],
   "source": [
    "isg+isg"
   ]
  },
  {
   "cell_type": "code",
   "execution_count": 11,
   "metadata": {},
   "outputs": [
    {
     "data": {
      "text/plain": [
       "Zero isogeny from Elliptic Curve defined by y^2 = x^3 + 89*x + 68 over Finite Field of size 101 to Elliptic Curve defined by y^2 = x^3 + 50*x + 99 over Finite Field of size 101"
      ]
     },
     "execution_count": 11,
     "metadata": {},
     "output_type": "execute_result"
    }
   ],
   "source": [
    "isg-isg"
   ]
  },
  {
   "cell_type": "code",
   "execution_count": 12,
   "metadata": {},
   "outputs": [
    {
     "data": {
      "text/plain": [
       "Isogeny of degree 9 from Elliptic Curve defined by y^2 = x^3 + 89*x + 68 over Finite Field of size 101 to Elliptic Curve defined by y^2 = x^3 + 89*x + 68 over Finite Field of size 101"
      ]
     },
     "execution_count": 12,
     "metadata": {},
     "output_type": "execute_result"
    }
   ],
   "source": [
    "E2 = isg.codomain()\n",
    "isg2 = Isogeny(isg.codomain(),\n",
    "kernel_polynomial = x+52, codomain = E)\n",
    "isg2*isg"
   ]
  },
  {
   "cell_type": "code",
   "execution_count": 13,
   "metadata": {},
   "outputs": [
    {
     "name": "stdout",
     "output_type": "stream",
     "text": [
      "Isogeny of degree 303 from Elliptic Curve defined by y^2 = x^3 + 89*x + 68 over Finite Field of size 101 to Elliptic Curve defined by y^2 = x^3 + 50*x + 99 over Finite Field of size 101\n",
      "False\n",
      "101\n"
     ]
    }
   ],
   "source": [
    "E = EllipticCurve(GF(101),[89,68])\n",
    "isg = Isogeny(E, x+50, frobenius_power = 1)\n",
    "print(isg)\n",
    "print(isg.separable())\n",
    "print(isg.inseparable_degree())"
   ]
  },
  {
   "cell_type": "code",
   "execution_count": 14,
   "metadata": {},
   "outputs": [
    {
     "data": {
      "text/plain": [
       "[Isogeny of degree 2 from Elliptic Curve defined by y^2 = x^3 + 89*x + 68 over Finite Field in z2 of size 101^2 to Elliptic Curve defined by y^2 = x^3 + 21*x + 73 over Finite Field in z2 of size 101^2,\n",
       " Isogeny of degree 2 from Elliptic Curve defined by y^2 = x^3 + 21*x + 73 over Finite Field in z2 of size 101^2 to Elliptic Curve defined by y^2 = x^3 + 10*x + 9 over Finite Field in z2 of size 101^2,\n",
       " Isogeny of degree 3 from Elliptic Curve defined by y^2 = x^3 + 10*x + 9 over Finite Field in z2 of size 101^2 to Elliptic Curve defined by y^2 = x^3 + 93*x + 74 over Finite Field in z2 of size 101^2]"
      ]
     },
     "execution_count": 14,
     "metadata": {},
     "output_type": "execute_result"
    }
   ],
   "source": [
    "isg = Isogeny(E, x+50, frobenius_power = 0)\n",
    "(isg+isg).isogeny_factors()"
   ]
  }
 ],
 "metadata": {
  "kernelspec": {
   "display_name": "SageMath 9.0",
   "language": "sage",
   "name": "sagemath"
  },
  "language_info": {
   "codemirror_mode": {
    "name": "ipython",
    "version": 3
   },
   "file_extension": ".py",
   "mimetype": "text/x-python",
   "name": "python",
   "nbconvert_exporter": "python",
   "pygments_lexer": "ipython3",
   "version": "3.7.3"
  }
 },
 "nbformat": 4,
 "nbformat_minor": 2
}
