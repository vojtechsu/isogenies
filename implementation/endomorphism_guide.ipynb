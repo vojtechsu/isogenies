{
 "cells": [
  {
   "cell_type": "markdown",
   "metadata": {},
   "source": [
    "## Endomorphism"
   ]
  },
  {
   "cell_type": "markdown",
   "metadata": {},
   "source": [
    "This notebook has been implemented as a supplementary tool for the appendix of the thesis. More info can be found in the appendix. \n"
   ]
  },
  {
   "cell_type": "markdown",
   "metadata": {},
   "source": [
    "Subclass of Isogeny class for endomorphism of elliptic curves.\n",
    "We can construct an instance of endomorphism using\n",
    " - kernel polynomial\n",
    " - rational maps\n",
    " - an element of its endomorphism ring\n",
    " - kernel (list of points)\n",
    "\n",
    "Nonseparable degree can be specified.\n",
    "\n",
    "Endomorphism ring can be supplied using 'ring' argument, otherwise it will be computed using isogeny volcanoes if needed. It is therefore recommended to avoid elliptic curves with j-invariant 0 or 1728 and curves with small discriminant of its order (see the documentation of endomorphism ring)\n",
    "\n",
    "Supersingular endomorphism ring not implemented!"
   ]
  },
  {
   "cell_type": "code",
   "execution_count": 1,
   "metadata": {},
   "outputs": [],
   "source": [
    "from isogenies.endomorphism import Endomorphism\n",
    "E = EllipticCurve(GF(23),[12,4])"
   ]
  },
  {
   "cell_type": "code",
   "execution_count": 2,
   "metadata": {},
   "outputs": [
    {
     "data": {
      "text/plain": [
       "Endomorphism of degree 23 on Elliptic Curve defined by y^2 = x^3 + 12*x + 4 over Finite Field of size 23"
      ]
     },
     "execution_count": 2,
     "metadata": {},
     "output_type": "execute_result"
    }
   ],
   "source": [
    "Q.<x> = PolynomialRing(E.base_field())\n",
    "f = x^11 + 8*x^10 + x^9 + 5*x^8 + 20*x^7 + 16*x^6 + 17*x^5 + 8*x^4 + 21*x^3 + 19*x^2 + 12*x + 7\n",
    "end = Endomorphism(E,kernel_polynomial = f)\n",
    "end"
   ]
  },
  {
   "cell_type": "code",
   "execution_count": 3,
   "metadata": {},
   "outputs": [
    {
     "data": {
      "text/plain": [
       "(c - 3, Number Field in c with defining polynomial x^2 - 3*x + 23)"
      ]
     },
     "execution_count": 3,
     "metadata": {},
     "output_type": "execute_result"
    }
   ],
   "source": [
    "end.order_element(), end.order_element().parent()"
   ]
  },
  {
   "cell_type": "code",
   "execution_count": 4,
   "metadata": {},
   "outputs": [
    {
     "data": {
      "text/plain": [
       "Endomorphism of degree 23 on Elliptic Curve defined by y^2 = x^3 + 12*x + 4 over Finite Field of size 23"
      ]
     },
     "execution_count": 4,
     "metadata": {},
     "output_type": "execute_result"
    }
   ],
   "source": [
    "end = Endomorphism(E, element = end.order_element())\n",
    "end"
   ]
  },
  {
   "cell_type": "code",
   "execution_count": 5,
   "metadata": {},
   "outputs": [
    {
     "data": {
      "text/plain": [
       "-3"
      ]
     },
     "execution_count": 5,
     "metadata": {},
     "output_type": "execute_result"
    }
   ],
   "source": [
    "end.trace()"
   ]
  },
  {
   "cell_type": "code",
   "execution_count": 6,
   "metadata": {},
   "outputs": [
    {
     "data": {
      "text/plain": [
       "(Endomorphism of degree 23 on Elliptic Curve defined by y^2 = x^3 + 12*x + 4 over Finite Field of size 23,\n",
       " -c)"
      ]
     },
     "execution_count": 6,
     "metadata": {},
     "output_type": "execute_result"
    }
   ],
   "source": [
    "end.dual(), end.dual().order_element()"
   ]
  },
  {
   "cell_type": "code",
   "execution_count": 7,
   "metadata": {},
   "outputs": [
    {
     "data": {
      "text/plain": [
       "Endomorphism ring of Elliptic Curve defined by y^2 = x^3 + 12*x + 4 over Finite Field of size 23"
      ]
     },
     "execution_count": 7,
     "metadata": {},
     "output_type": "execute_result"
    }
   ],
   "source": [
    "end\n",
    "end.ring()"
   ]
  },
  {
   "cell_type": "markdown",
   "metadata": {},
   "source": [
    "## Endomorphism ring"
   ]
  },
  {
   "cell_type": "markdown",
   "metadata": {},
   "source": [
    "We can compute the endomorphism ring directly from curve:"
   ]
  },
  {
   "cell_type": "code",
   "execution_count": 3,
   "metadata": {},
   "outputs": [
    {
     "name": "stdout",
     "output_type": "stream",
     "text": [
      "Endomorphism ring of Elliptic Curve defined by y^2 = x^3 + 12*x + 4 over Finite Field of size 23\n",
      "1\n",
      "Number Field in c with defining polynomial x^2 - 3*x + 23\n",
      "Order in Number Field in c with defining polynomial x^2 - 3*x + 23\n"
     ]
    }
   ],
   "source": [
    "from isogenies.endomorphism_ring import Endomorphism_ring\n",
    "E = EllipticCurve(GF(23),[12,4])\n",
    "O = Endomorphism_ring(E)\n",
    "print(O)\n",
    "print(O.conductor())\n",
    "print(O.field())\n",
    "print(O.order())"
   ]
  },
  {
   "cell_type": "code",
   "execution_count": null,
   "metadata": {},
   "outputs": [],
   "source": []
  }
 ],
 "metadata": {
  "kernelspec": {
   "display_name": "SageMath 9.2",
   "language": "sage",
   "name": "sagemath"
  },
  "language_info": {
   "codemirror_mode": {
    "name": "ipython",
    "version": 3
   },
   "file_extension": ".py",
   "mimetype": "text/x-python",
   "name": "python",
   "nbconvert_exporter": "python",
   "pygments_lexer": "ipython3",
   "version": "3.8.5"
  }
 },
 "nbformat": 4,
 "nbformat_minor": 2
}
